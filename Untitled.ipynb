{
 "cells": [
  {
   "cell_type": "code",
   "execution_count": 45,
   "metadata": {},
   "outputs": [],
   "source": [
    "import sklearn.datasets as skdata\n",
    "import matplotlib.pyplot as plt\n",
    "import numpy as np\n",
    "import sklearn.metrics\n",
    "from sklearn.preprocessing import StandardScaler\n",
    "from sklearn.model_selection import train_test_split\n",
    "from sklearn.discriminant_analysis import LinearDiscriminantAnalysis\n",
    "from sklearn import svm"
   ]
  },
  {
   "cell_type": "code",
   "execution_count": 46,
   "metadata": {},
   "outputs": [],
   "source": [
    "import glob\n",
    "files=glob.glob('train/*.jpg')\n",
    "files_2=glob.glob('test/*.jpg')"
   ]
  },
  {
   "cell_type": "code",
   "execution_count": 47,
   "metadata": {},
   "outputs": [],
   "source": [
    "datos=[]\n",
    "datos_2=[]\n",
    "for i in files:\n",
    "    datos.append(plt.imread(i).flatten())\n",
    "datos=np.float_(datos)\n",
    "datos=datos[:,:1000]\n",
    "for j in files_2:\n",
    "    datos_2.append(plt.imread(j).flatten())\n",
    "datos_2=np.float_(datos_2)\n",
    "datos_2=datos_2[:,:1000]"
   ]
  },
  {
   "cell_type": "code",
   "execution_count": 48,
   "metadata": {},
   "outputs": [],
   "source": [
    "y_test=[1,1,1,0,1,0,0,0,0,0]"
   ]
  },
  {
   "cell_type": "code",
   "execution_count": 49,
   "metadata": {},
   "outputs": [],
   "source": [
    "y_train=np.zeros(100)"
   ]
  },
  {
   "cell_type": "code",
   "execution_count": 50,
   "metadata": {},
   "outputs": [],
   "source": [
    "for i in range(len(y_train)):\n",
    "    j=int(files[i].split('/')[1].split('.')[0])\n",
    "    if(j%2==0):\n",
    "        y_train[i]+=1"
   ]
  },
  {
   "cell_type": "code",
   "execution_count": 65,
   "metadata": {},
   "outputs": [],
   "source": [
    "x_train, x_20, y_train, y_20 = train_test_split(datos,y_train,train_size=0.8)"
   ]
  },
  {
   "cell_type": "code",
   "execution_count": 66,
   "metadata": {},
   "outputs": [],
   "source": [
    "# Reescalado de los datos\n",
    "scaler = StandardScaler()\n",
    "x_train = scaler.fit_transform(datos)\n",
    "x_20 = scaler.fit_transform(datos)\n",
    "x_test = scaler.fit_transform(datos_2)"
   ]
  },
  {
   "cell_type": "code",
   "execution_count": 67,
   "metadata": {},
   "outputs": [],
   "source": [
    "cov = np.cov(x_train.T)\n",
    "valores, vectores = np.linalg.eig(cov)\n",
    "valores = np.real(valores)\n",
    "vectores = np.real(vectores)\n",
    "ii = np.argsort(-valores)\n",
    "valores = valores[ii]\n",
    "vectores = vectores[:,ii]"
   ]
  },
  {
   "cell_type": "code",
   "execution_count": 68,
   "metadata": {},
   "outputs": [
    {
     "data": {
      "text/plain": [
       "(10, 1000)"
      ]
     },
     "execution_count": 68,
     "metadata": {},
     "output_type": "execute_result"
    }
   ],
   "source": [
    "np.shape(vectores[:10])"
   ]
  },
  {
   "cell_type": "code",
   "execution_count": 69,
   "metadata": {},
   "outputs": [],
   "source": [
    "pr_train=np.dot(x_train,vectores)\n",
    "pr_20=np.dot(x_20,vectores)\n",
    "pr_test=np.dot(x_test,vectores)"
   ]
  },
  {
   "cell_type": "code",
   "execution_count": 91,
   "metadata": {},
   "outputs": [
    {
     "data": {
      "text/plain": [
       "(100, 1000)"
      ]
     },
     "execution_count": 91,
     "metadata": {},
     "output_type": "execute_result"
    }
   ],
   "source": [
    "np.shape(x_20)"
   ]
  },
  {
   "cell_type": "code",
   "execution_count": 80,
   "metadata": {},
   "outputs": [
    {
     "data": {
      "image/png": "[encoded data removed]",
      "text/plain": [
       "<Figure size 432x288 with 2 Axes>"
      ]
     },
     "metadata": {
      "needs_background": "light"
     },
     "output_type": "display_data"
    }
   ],
   "source": [
    "c=np.logspace(-2,1,100)\n",
    "f1=[]\n",
    "for i in c:\n",
    "    clf=svm.SVC(C=i,kernel='linear')\n",
    "    clf.fit(pr_train[:80],y_train.T)\n",
    "    a=clf.predict(pr_20)\n",
    "    f1.append(sklearn.metrics.f1_score(y_20, average='macro'))\n",
    "i=np.where(f1==np.max(f1))[0]\n",
    "c_max=np.mean(c[i])\n",
    "clf_f=svm.SVC(C=c_max,kernel='linear')\n",
    "clf_f.fit(pr_train[:80],y_train.T)\n",
    "\n",
    "sklearn.metrics.plot_confusion_matrix(clf_f,pr_test,y_test,normalize='true',values_format='.2g')\n",
    "plt.title('Matriz de Confusión para C={:.3f}'.format(c_max))\n",
    "plt.show()"
   ]
  },
  {
   "cell_type": "code",
   "execution_count": 82,
   "metadata": {},
   "outputs": [
    {
     "data": {
      "text/plain": [
       "array([0., 0., 1., 0., 1., 0., 1., 1., 1., 0.])"
      ]
     },
     "execution_count": 82,
     "metadata": {},
     "output_type": "execute_result"
    }
   ],
   "source": [
    "clf=svm.SVC(C=c_max,kernel='linear')\n",
    "clf.fit(pr_train[:80],y_train.T)\n",
    "clf.predict(pr_test)"
   ]
  },
  {
   "cell_type": "code",
   "execution_count": 83,
   "metadata": {},
   "outputs": [
    {
     "data": {
      "text/plain": [
       "0.5454545454545454"
      ]
     },
     "execution_count": 83,
     "metadata": {},
     "output_type": "execute_result"
    }
   ],
   "source": [
    "sklearn.metrics.f1_score(y_test, clf.predict(pr_test), pos_label=0)"
   ]
  },
  {
   "cell_type": "code",
   "execution_count": 84,
   "metadata": {},
   "outputs": [
    {
     "data": {
      "text/plain": [
       "0.4444444444444445"
      ]
     },
     "execution_count": 84,
     "metadata": {},
     "output_type": "execute_result"
    }
   ],
   "source": [
    "sklearn.metrics.f1_score(y_test, clf.predict(pr_test), pos_label=1)"
   ]
  },
  {
   "cell_type": "code",
   "execution_count": null,
   "metadata": {},
   "outputs": [],
   "source": []
  }
 ],
 "metadata": {
  "kernelspec": {
   "display_name": "Python 3",
   "language": "python",
   "name": "python3"
  },
  "language_info": {
   "codemirror_mode": {
    "name": "ipython",
    "version": 3
   },
   "file_extension": ".py",
   "mimetype": "text/x-python",
   "name": "python",
   "nbconvert_exporter": "python",
   "pygments_lexer": "ipython3",
   "version": "3.7.6"
  }
 },
 "nbformat": 4,
 "nbformat_minor": 4
}
